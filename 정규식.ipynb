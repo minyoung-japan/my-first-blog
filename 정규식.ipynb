{
 "cells": [
  {
   "cell_type": "code",
   "execution_count": null,
   "metadata": {},
   "outputs": [],
   "source": [
    "gc = gc.replace(r'[\\※]|[\\◆]|[\\■]|[\\●]|[\\▲]','',regex=True)\n",
    "\n",
    "정규식\n",
    "\n",
    "특정기호포함한 전체 찾기\n",
    "[\\★] 특수기호앞에는 역슬래쉬를 해줘야한다.  즉, 문자를 그대로 표현할때 사용[]는 그안에서 전체를 찾는다는것.\n"
   ]
  },
  {
   "cell_type": "code",
   "execution_count": null,
   "metadata": {},
   "outputs": [],
   "source": [
    "   mono = mono.query('attrValue.str.contains(pat=r\"[ぁ-んァ-ヶ亜-熙]\")')"
   ]
  },
  {
   "cell_type": "code",
   "execution_count": null,
   "metadata": {},
   "outputs": [],
   "source": [
    "알파벳과 숫자가 아닌 문자를 모두 공백(또는 repl='' 설정하면 제거)으로 바꿉니다.\n",
    "Object시리즈.str.replace(pat=r'[^A-Za-z0-9]', repl=r' ', regex=True)  # replace all special symbols to space"
   ]
  }
 ],
 "metadata": {
  "kernelspec": {
   "display_name": "Python 3",
   "language": "python",
   "name": "python3"
  },
  "language_info": {
   "codemirror_mode": {
    "name": "ipython",
    "version": 3
   },
   "file_extension": ".py",
   "mimetype": "text/x-python",
   "name": "python",
   "nbconvert_exporter": "python",
   "pygments_lexer": "ipython3",
   "version": "3.8.3"
  }
 },
 "nbformat": 4,
 "nbformat_minor": 4
}
