{
  "nbformat": 4,
  "nbformat_minor": 0,
  "metadata": {
    "kernelspec": {
      "display_name": "Python 3",
      "language": "python",
      "name": "python3"
    },
    "language_info": {
      "codemirror_mode": {
        "name": "ipython",
        "version": 3
      },
      "file_extension": ".py",
      "mimetype": "text/x-python",
      "name": "python",
      "nbconvert_exporter": "python",
      "pygments_lexer": "ipython3",
      "version": "3.8.3"
    },
    "colab": {
      "name": "google trans.ipynb",
      "provenance": [],
      "include_colab_link": true
    }
  },
  "cells": [
    {
      "cell_type": "markdown",
      "metadata": {
        "id": "view-in-github",
        "colab_type": "text"
      },
      "source": [
        "<a href=\"https://colab.research.google.com/github/minyoung-japan/my-first-blog/blob/master/google_trans.ipynb\" target=\"_parent\"><img src=\"https://colab.research.google.com/assets/colab-badge.svg\" alt=\"Open In Colab\"/></a>"
      ]
    },
    {
      "cell_type": "code",
      "metadata": {
        "colab": {
          "base_uri": "https://localhost:8080/"
        },
        "id": "0ge6I3xTSYDu",
        "outputId": "976ceacf-ce58-463d-ca3b-9a1b15c764e8"
      },
      "source": [
        "!pip install google_trans_new"
      ],
      "execution_count": 2,
      "outputs": [
        {
          "output_type": "stream",
          "text": [
            "Collecting google_trans_new\n",
            "  Downloading https://files.pythonhosted.org/packages/f9/7b/9f136106dc5824dc98185c97991d3cd9b53e70a197154dd49f7b899128f6/google_trans_new-1.1.9-py3-none-any.whl\n",
            "Installing collected packages: google-trans-new\n",
            "Successfully installed google-trans-new-1.1.9\n"
          ],
          "name": "stdout"
        }
      ]
    },
    {
      "cell_type": "code",
      "metadata": {
        "colab": {
          "base_uri": "https://localhost:8080/"
        },
        "id": "R0LPY-VBSPsC",
        "outputId": "51cf5a9d-4825-43da-9e9d-59ef978be583"
      },
      "source": [
        "from google_trans_new import google_translator  \n",
        "\n",
        "translator = google_translator()  \n",
        "translate_text = translator.translate(\"뭐 하고 있으세요\",lang_tgt='ja')  \n",
        "print(translate_text)"
      ],
      "execution_count": 3,
      "outputs": [
        {
          "output_type": "stream",
          "text": [
            "なにして ますか \n"
          ],
          "name": "stdout"
        }
      ]
    },
    {
      "cell_type": "code",
      "metadata": {
        "id": "p-xbajzSSPsH"
      },
      "source": [
        "#!pip3 install googletrans\n",
        "#!pip3 install googletrans==3.1.0a0\n",
        "\n",
        "from googletrans import Translator\n",
        "\n",
        "translator = Translator()\n",
        "result = translator.translate('이거 왜안되는거니',dest='en')\n",
        "print(result.text)\n"
      ],
      "execution_count": null,
      "outputs": []
    },
    {
      "cell_type": "code",
      "metadata": {
        "id": "r65xu3DkSPsI"
      },
      "source": [
        "from google_trans_new import google_translator\n",
        "translator = google_translator() \n",
        "\n",
        "basic = pd.read_excel('..\\\\\\\\%sbasic_%s.xlsx'%(brand,date))\n",
        "basic.insert(3,'productName_K','')\n",
        "basic.to_excel('..\\\\\\\\%sbasic_%s.xlsx'%(brand,date), index=None)\n",
        "    \n",
        "trans = pd.read_excel('..\\\\\\\\%sbasic_%s.xlsx'%(brand,date), usecols='C,D')\n",
        "trans = trans.drop_duplicates(keep='first', subset='productName')\n",
        "trans = trans.sort_values('productName', ascending=True)\n",
        "#Google Trans~~~~~~~~~~~~~~~~~~~~~~~~~~~~~~#\n",
        "translated = []\n",
        "japanese = trans['productName']\n",
        "for oneja in japanese:\n",
        "    ontrans = translator.translate(oneja,dest='ko').text\n",
        "    translated.append(onetrans)\n",
        "for onetranslated in translated:\n",
        "    trans['productName_K'] = pd.Series(onetranslated)\n",
        "#Google Trans~~~~~~~~~~~~~~~~~~~~~~~~~~~~~~#        \n",
        "trans.to_excel(trans, index=None, header=True)"
      ],
      "execution_count": null,
      "outputs": []
    }
  ]
}