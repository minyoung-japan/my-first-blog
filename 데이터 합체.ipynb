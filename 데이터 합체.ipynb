{
 "cells": [
  {
   "cell_type": "code",
   "execution_count": null,
   "metadata": {},
   "outputs": [],
   "source": [
    "#merge\n",
    "import pandas as pd\n",
    "\n",
    "source = pd.read_excel(\"source.xlsx\")\n",
    "\n",
    "ref= pd.read_excel(\"ref.xlsx\")\n",
    "\n",
    "df = pd.merge('source','ref',how='left',on='뭉칠열')\n",
    "#on이 다를경우에는 이렇게 지정해주면 된다. left_on='stock_name', right_on='name')\n",
    "#left, right, outer,inner 조인\n",
    "\n",
    "df.to_excel(\"result.xlsx\")"
   ]
  },
  {
   "cell_type": "code",
   "execution_count": null,
   "metadata": {},
   "outputs": [],
   "source": [
    "#concat 단순병합\n",
    "\n",
    "result1 = pd.concat([df1,df2],axis=0,join='outer') \n",
    "result1 = pd.concat([df1,df2],axis=!,join='outer',keys=['img1','info1','img2','info2']) \n",
    "df1밑에df2데이터 붙여넣기\n",
    "axis=0 밑에다가 붙여넣기\n",
    "axis=1 옆에다가 붙여넣기\n",
    "join='outer'합집합\n",
    "join='inner'교집합"
   ]
  },
  {
   "cell_type": "code",
   "execution_count": null,
   "metadata": {},
   "outputs": [],
   "source": [
    "#index가 키가되어 병합됨\n",
    "\n",
    "df1.join(df2, how='inner')"
   ]
  }
 ],
 "metadata": {
  "kernelspec": {
   "display_name": "Python 3",
   "language": "python",
   "name": "python3"
  },
  "language_info": {
   "codemirror_mode": {
    "name": "ipython",
    "version": 3
   },
   "file_extension": ".py",
   "mimetype": "text/x-python",
   "name": "python",
   "nbconvert_exporter": "python",
   "pygments_lexer": "ipython3",
   "version": "3.8.3"
  }
 },
 "nbformat": 4,
 "nbformat_minor": 4
}
