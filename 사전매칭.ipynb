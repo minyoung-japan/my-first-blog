{
 "cells": [
  {
   "cell_type": "code",
   "execution_count": 136,
   "metadata": {},
   "outputs": [],
   "source": [
    "import pandas as pd\n",
    "\n",
    "dic = pd.read_excel('사전.xlsx')\n",
    "source = pd.read_excel('대상.xlsx')\n",
    "\n",
    "R = dic['raw'].to_string(index=False)\n",
    "D = dic['dic'].to_string(index=False)\n",
    "dictor = str.maketrans(R, D)\n",
    "dicted_list = []\n",
    "\n",
    "for index, text in soruce['raw_sentence'].iteritems():\n",
    "    text = str(text)\n",
    "    item = text.translate(dictor)\n",
    "    dicted_list.append(item)\n",
    "source['dicted_sentence'] = pd.Series(dicted_list)\n",
    "\n",
    "source.to_excel('결과.xlsx',index=False,header=None)"
   ]
  }
 ],
 "metadata": {
  "kernelspec": {
   "display_name": "Python 3",
   "language": "python",
   "name": "python3"
  },
  "language_info": {
   "codemirror_mode": {
    "name": "ipython",
    "version": 3
   },
   "file_extension": ".py",
   "mimetype": "text/x-python",
   "name": "python",
   "nbconvert_exporter": "python",
   "pygments_lexer": "ipython3",
   "version": "3.8.3"
  }
 },
 "nbformat": 4,
 "nbformat_minor": 4
}
