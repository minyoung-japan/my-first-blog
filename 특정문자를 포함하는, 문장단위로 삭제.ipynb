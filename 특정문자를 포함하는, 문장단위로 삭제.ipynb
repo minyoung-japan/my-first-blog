{
 "cells": [
  {
   "cell_type": "code",
   "execution_count": null,
   "metadata": {},
   "outputs": [],
   "source": [
    "import pandas as pd\n",
    "\n",
    "gc = pd.read_excel('..\\\\\\\\%sgc_%s.xlsx'%(brand,date))\n",
    "gc = gc.replace(r'[\\※]|[\\◆]|[\\■]|[\\●]|[\\▲]','',regex=True)\n",
    "\n",
    "attention = gc['attention'].dropna(how='any')\n",
    "attention = attention.drop_duplicates()\n",
    "attention = attention.values.tolist() #리스트로만들기!!\n",
    "found_list = []\n",
    "gc_del=['エコマーク','メーカー直送商品','MonotaRo','配送','別途送料']\n",
    "\n",
    "for tosplit in attention:\n",
    "        sentences = tosplit.split('。')\n",
    "        for onesen in sentences:\n",
    "            for onedel in gc_del:\n",
    "                if onedel in onesen:\n",
    "                    found_list.append(onesen)\n",
    "                    \n",
    "for onefound in found_list:\n",
    "    gc['attention'] = gc['attention'].str.replace(pat='%s。'%onefound,repl='',regex=False) \n",
    "    gc['attention'] = gc['attention'].str.replace(pat='%s'%onefound,repl='',regex=False) \n",
    "    \n",
    "gc.to_excel('..\\\\\\\\%sgc_%s.xlsx'%(brand,date), index=True)"
   ]
  }
 ],
 "metadata": {
  "kernelspec": {
   "display_name": "Python 3",
   "language": "python",
   "name": "python3"
  },
  "language_info": {
   "codemirror_mode": {
    "name": "ipython",
    "version": 3
   },
   "file_extension": ".py",
   "mimetype": "text/x-python",
   "name": "python",
   "nbconvert_exporter": "python",
   "pygments_lexer": "ipython3",
   "version": "3.8.3"
  }
 },
 "nbformat": 4,
 "nbformat_minor": 4
}
