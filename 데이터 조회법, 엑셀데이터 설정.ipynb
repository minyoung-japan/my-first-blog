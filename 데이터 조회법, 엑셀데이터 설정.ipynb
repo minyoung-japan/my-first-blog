{
 "cells": [
  {
   "cell_type": "code",
   "execution_count": null,
   "metadata": {},
   "outputs": [],
   "source": [
    "#첫문자 대글자로 만들기\n",
    "df['productName'] =df['productName'].str.title()\n",
    "\n",
    "#모노타로넘버를 8자리숫자로 만들기+링크주소로 만들기\n",
    "df['address']  = df['address'].apply(str)\n",
    "df['address']  = \"https://www.monotaro.com/g/\" +df['address'].str.rjust(width=8, fillchar='0') \n",
    "\n",
    "#주소에서 맨끝 숫자만 추출\n",
    "df['address'] = df['address'].str.extract('([\\d]+)')\n",
    "df['address'] = df['address'].str.slice(start=-8)"
   ]
  },
  {
   "cell_type": "code",
   "execution_count": null,
   "metadata": {},
   "outputs": [],
   "source": [
    "import pandas as pd \n",
    "\n",
    "dic = pd.read_excel('//fss0201/Marketing/overseas/輸出関連プロセス/商品情報抽出/Navi/◆商品情報提供/ptthon_work/chk_Kwords.xlsx') \n",
    "#원하는 위치의 경로지정\n",
    "basic = pd.read_excel('..\\\\\\\\%basic_%s.xlsx')\n",
    "#한단계 상위폴더 경로지정\n",
    "\n",
    "df = pd.read_excel(\"source.xlsx\", comment='#', index_col='number', dtype = {\"number\": int})\n",
    "#commet 각 행에서 #기호를 입력한 열을 기준으로 그 그 뒤에열 데이터를 모두 삭제시켜줌\n",
    "#index_col 인덱스를 설정해줌\n",
    "#dtype 데이터 타입을 설정해줌\n",
    "\n",
    "df = df.sort_values('monotaroNo', ascending=True) #특정열 기준으로 정렬\n",
    "# 내림차순으로 정렬False로 설정, 오름차순으로정렬True\n",
    "\n",
    "df = df['attention'].dropna(how='any')# 결측값이 들어있는 데이터프레임 행전채삭제axis=0, 열전체삭제 axis=1\n",
    "\n",
    "# 행의 값중 하나라도 nan인 경우 그 행을 없앤다.\n",
    "df.dropna(how='any') \n",
    "\n",
    "# 행의 값의 모든 값이 nan인 경우 그 행으 없앤다.\n",
    "df.dropna(how='all')\n",
    "\n",
    "df = df.dropna(how='any')# 결측값이 들어있는 시리즈행전채삭제axis=0, 열전체삭제 axis=1\n",
    "\n",
    "# 지정한 열에서 중복값을 제외한 유니크한 값만 얻기\n",
    "df2['F'].unique()\n",
    "\n",
    "# 중복갯수 출력(결측치제외)\n",
    "df2['F'].value_counts()\n",
    "\n",
    "\n",
    "df.insert(3,'productName_K','') #행삽입\n",
    "\n",
    "\n",
    "df = df.drop_duplicates(keep='first', subset='productName') #중복삭제\n",
    "\n",
    "\n",
    "df.to_excel('result.xlsx')\n",
    "\n",
    "df.shape #(몇행, 몇열)있는지 출력\n",
    "\n",
    "df.values #값만모두출력\n",
    "\n",
    "df.columns #열 이름 모두 출력\n",
    "\n",
    "df.index #인덱스확인"
   ]
  },
  {
   "cell_type": "code",
   "execution_count": null,
   "metadata": {},
   "outputs": [],
   "source": [
    "#해당열의 표시형식 변경시키기\n",
    "\n",
    "from openpyxl import load_workbook\n",
    "\n",
    "wb = load_workbook(\"source.xlsx\")\n",
    "ws = wb['Sheet1']\n",
    "\n",
    "cell = ws.cell(row=2, column=8)\n",
    "str(cell)\n",
    "cell.number_format = '#'\n",
    "\n",
    "wb.save(\"source.xlsx\")"
   ]
  },
  {
   "cell_type": "code",
   "execution_count": null,
   "metadata": {},
   "outputs": [],
   "source": [
    "#시트여러개로 나눠서 저장하기\n",
    "\n",
    "with pd.ExcelWriter('파일명.xlsx') as writer:\n",
    "    trans1.to_excel(writer, sheet_name='attrName', index=None, header=True)\n",
    "    trans2.to_excel(writer, sheet_name='attrValue', index=None, header=True)"
   ]
  },
  {
   "cell_type": "code",
   "execution_count": null,
   "metadata": {},
   "outputs": [],
   "source": [
    "#모든 컬럼명 변경\n",
    "df.columns=['년도','인원수']\n",
    "\n",
    "#일부 컬럼명 변경\n",
    "df.rename(colums={\"year\":\"년도\",\"people\":\"인원수\"}\n",
    "\n",
    "\n",
    "#Nan값을 없음 으로 입력변경\n",
    "df.fillna('없음')\n",
    "          \n",
    "          \n",
    "#특정열에 똑같은 값 전부집어넣기          \n",
    "df['combine'] = \"NA\"\n",
    "          \n",
    "#기존컬럼을 인덱스로 변경\n",
    "df.index.name = \"idx\"\n",
    "\n",
    "df = df.set_index(\"c1\")"
   ]
  },
  {
   "cell_type": "code",
   "execution_count": 73,
   "metadata": {},
   "outputs": [],
   "source": [
    "#데이터값 합친 열 만들기\n",
    "import pandas as pd\n",
    "\n",
    "df = pd.read_excel('source.xlsx')\n",
    "\n",
    "df['combine'] = df['attrName']+ \":\" + df['attrValue']\n",
    "\n",
    "df['combined'] = \"특징|| \" + df[['attention_K', 'useable_K','feature_K']].agg('|'.join, axis=1)\n",
    "\n",
    "df.to_excel('result.xlsx',index=False)"
   ]
  },
  {
   "cell_type": "code",
   "execution_count": null,
   "metadata": {},
   "outputs": [],
   "source": [
    "#해당 열을 유니크하게 만들어주면서, 전체합계를내줌\n",
    "df.groupby(['뭉칠열1','뭉칠열2']).sum()"
   ]
  },
  {
   "cell_type": "code",
   "execution_count": null,
   "metadata": {},
   "outputs": [],
   "source": [
    "#행1,행2에해당하는 열1~열13까지를 가지오고오도록\n",
    "df.loc['행1':'행2','열1':'열13']\n",
    "\n",
    "#name열이 Kiho인 names, points열을 출력시키기\n",
    "df.loc[df['names'] == 'Kilho',['names','points']]\n",
    "\n",
    "# year가 2014보다 큰 모든 행의 값\n",
    "df.loc[df['year']>2014,:]\n"
   ]
  }
 ],
 "metadata": {
  "kernelspec": {
   "display_name": "Python 3",
   "language": "python",
   "name": "python3"
  },
  "language_info": {
   "codemirror_mode": {
    "name": "ipython",
    "version": 3
   },
   "file_extension": ".py",
   "mimetype": "text/x-python",
   "name": "python",
   "nbconvert_exporter": "python",
   "pygments_lexer": "ipython3",
   "version": "3.8.3"
  }
 },
 "nbformat": 4,
 "nbformat_minor": 4
}
