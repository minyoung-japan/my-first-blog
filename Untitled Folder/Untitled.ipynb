{
 "cells": [
  {
   "cell_type": "code",
   "execution_count": null,
   "metadata": {},
   "outputs": [],
   "source": [
    "import pandas as pd\n",
    "from google_trans_new import google_translator\n",
    "\n",
    "basic = pd.read_excel('basic.xlsx')\n",
    "\n",
    "translator = google_translator() \n",
    "translation = trans.copy()\n",
    "for column in translation:\n",
    "    # unique elements of the column\n",
    "    unique_elements = translation[productName].unique()\n",
    "for element in unique_elements:\n",
    "        # add translation to the dictionary\n",
    "    translations[productName_K] = translator.translate(element).text\n",
    "basic.to_excel(trans, index=None, header=True)"
   ]
  },
  {
   "cell_type": "code",
   "execution_count": null,
   "metadata": {},
   "outputs": [],
   "source": [
    "import 1SKU_filter\n",
    "1SKU_filter.SKU_filter('001','1202')\n",
    "\n",
    "import 1details_filter\n",
    "1details_filter.details_filter('001','1202')"
   ]
  },
  {
   "cell_type": "code",
   "execution_count": null,
   "metadata": {},
   "outputs": [],
   "source": [
    "import 2trans\n",
    "2trans.basic('001','1202','t_basic.xlsx')\n",
    "2trans.gc('001','1202','t_gc.xlsx')\n",
    "2trans.mono('001','1202','t_mono.xlsx')"
   ]
  },
  {
   "cell_type": "code",
   "execution_count": null,
   "metadata": {},
   "outputs": [],
   "source": [
    "import 3dic\n",
    "3dic.all_dic('001','1202')\n",
    "3dic.attrname_dic('001','1202')"
   ]
  },
  {
   "cell_type": "code",
   "execution_count": null,
   "metadata": {},
   "outputs": [],
   "source": [
    "import 4trans_combine\n",
    "4trans_combine.trans_combine('001','1202','t_basic.xlsx','t_gc.xlsx','t_mono.xlsx'):\n",
    "4trans_combine.gc_add('001','1202')\n",
    "4trans_combine.mono_add('001','1202')"
   ]
  },
  {
   "cell_type": "code",
   "execution_count": null,
   "metadata": {},
   "outputs": [],
   "source": [
    "import 5image\n",
    "5image.image('img.csv','img.xlsx')\n",
    "\n",
    "import 5category\n",
    "5category.category('001','1202','item.csv','item.xlsx')\n",
    "5category.category_dic('item.xlsx','//fss0201/Marketing/overseas/輸出関連プロセス/商品情報抽出/Navi/◆商品情報提供/NAVI PIフォーマット作成/カテゴリーマッチング/CATE.xlsx')"
   ]
  },
  {
   "cell_type": "code",
   "execution_count": null,
   "metadata": {},
   "outputs": [],
   "source": [
    "import os\n",
    "path=os.path.realpath(\"\")\n",
    "os.startfile(path)\n",
    "\n",
    "desktop_path = os.getenv(\"HOMEDRIVE\") + os.getenv(\"HOMEPATH\") + \"\\\\Desktop\"\n",
    "os.mkdir(desktop_path+'\\\\Navi format\\\\photo')"
   ]
  },
  {
   "cell_type": "code",
   "execution_count": null,
   "metadata": {},
   "outputs": [],
   "source": [
    "#installer\n",
    "!pip3 googletrans\n",
    "!pip3 install googletrans==3.1.0a0"
   ]
  },
  {
   "cell_type": "code",
   "execution_count": null,
   "metadata": {},
   "outputs": [],
   "source": [
    "import pandas\n",
    "\n",
    "sql = \"\"\"\n",
    "    SELECT name\n",
    "    FROM `bigquery-public-data.usa_names.usa_1910_current`\n",
    "    WHERE state = 'TX'\n",
    "    LIMIT 5\n",
    "\"\"\"\n",
    "\n",
    "# SQL을 열어라\n",
    "df = pandas.read_gbq(sql, dialect='standard')\n",
    "\n",
    "# SQL의 특정 프로젝트 명을 열어라\n",
    "project_id = 'your-project-id'\n",
    "df = pandas.read_gbq(sql, project_id=project_id, dialect='standard')"
   ]
  }
 ],
 "metadata": {
  "kernelspec": {
   "display_name": "Python 3",
   "language": "python",
   "name": "python3"
  },
  "language_info": {
   "codemirror_mode": {
    "name": "ipython",
    "version": 3
   },
   "file_extension": ".py",
   "mimetype": "text/x-python",
   "name": "python",
   "nbconvert_exporter": "python",
   "pygments_lexer": "ipython3",
   "version": "3.8.3"
  }
 },
 "nbformat": 4,
 "nbformat_minor": 4
}
