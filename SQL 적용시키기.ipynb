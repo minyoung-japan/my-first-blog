{
 "cells": [
  {
   "cell_type": "code",
   "execution_count": null,
   "metadata": {},
   "outputs": [],
   "source": [
    "!pip install pandas_gbq"
   ]
  },
  {
   "cell_type": "code",
   "execution_count": null,
   "metadata": {},
   "outputs": [],
   "source": [
    "import pandas\n",
    "import pandas_gbq\n",
    "\n",
    "sql =\"\"\"\n",
    "SELECT *\n",
    "FROM `monotaro-cbe-prod.dictionary.tr_category_name_en`\n",
    "LIMIT 5\n",
    "\"\"\"\n",
    "df = pandas.read_gbq(sql, project_id='monotaro-cbe-prod', dialect='standard')\n",
    "df.to_excel(\"result.xlsx\",index=False)"
   ]
  }
 ],
 "metadata": {
  "kernelspec": {
   "display_name": "Python 3",
   "language": "python",
   "name": "python3"
  },
  "language_info": {
   "codemirror_mode": {
    "name": "ipython",
    "version": 3
   },
   "file_extension": ".py",
   "mimetype": "text/x-python",
   "name": "python",
   "nbconvert_exporter": "python",
   "pygments_lexer": "ipython3",
   "version": "3.8.3"
  }
 },
 "nbformat": 4,
 "nbformat_minor": 4
}
