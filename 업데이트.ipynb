{
 "cells": [
  {
   "cell_type": "code",
   "execution_count": 14,
   "metadata": {},
   "outputs": [],
   "source": [
    "import pandas as pd\n",
    "\n",
    "#열의배열은 source기준으로배열, #키 없이 정말 엑셀에 나열된 순서대로만 인식함(즉 중복삭제했거나, 정렬순서가 다르다면사용x)\n",
    "#원본이 있고, \"그것을가지고\"사본을 만들었을때 사용가능한 툴. \n",
    "\n",
    "df = pd.read_excel('source.xlsx')\n",
    "copy = pd.read_excel('copy.xlsx')\n",
    "df.update(copy, overwrite=False)\n",
    "\n",
    "#overwirte가 false라면 가로행의 데이터값들은 source기준으로 입력/source에 공백이 있는 부분만 copy가 값을 넣어준다.\n",
    "#overwrite가 true라면 가로행의 데이터값들은 copy를 기준으로 입력/ copy에 공백인 부분만 cource가 값을 넣어준다.\n",
    "\n",
    "df.to_excel('result.xlsx')"
   ]
  }
 ],
 "metadata": {
  "kernelspec": {
   "display_name": "Python 3",
   "language": "python",
   "name": "python3"
  },
  "language_info": {
   "codemirror_mode": {
    "name": "ipython",
    "version": 3
   },
   "file_extension": ".py",
   "mimetype": "text/x-python",
   "name": "python",
   "nbconvert_exporter": "python",
   "pygments_lexer": "ipython3",
   "version": "3.8.3"
  }
 },
 "nbformat": 4,
 "nbformat_minor": 4
}
