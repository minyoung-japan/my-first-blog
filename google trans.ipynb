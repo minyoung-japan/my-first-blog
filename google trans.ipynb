{
 "cells": [
  {
   "cell_type": "code",
   "execution_count": null,
   "metadata": {},
   "outputs": [],
   "source": [
    "from google_trans_new import google_translator  \n",
    "\n",
    "translator = google_translator()  \n",
    "translate_text = translator.translate(\"뭐 하고 있으세요\",lang_tgt='ja')  \n",
    "print(translate_text)"
   ]
  },
  {
   "cell_type": "code",
   "execution_count": null,
   "metadata": {},
   "outputs": [],
   "source": [
    "#!pip3 install googletrans\n",
    "#!pip3 install googletrans==3.1.0a0\n",
    "\n",
    "from googletrans import Translator\n",
    "\n",
    "translator = Translator()\n",
    "result = translator.translate('이거 왜안되는거니',dest='en')\n",
    "print(result.text)\n"
   ]
  },
  {
   "cell_type": "code",
   "execution_count": null,
   "metadata": {},
   "outputs": [],
   "source": [
    "from google_trans_new import google_translator\n",
    "translator = google_translator() \n",
    "\n",
    "basic = pd.read_excel('..\\\\\\\\%sbasic_%s.xlsx'%(brand,date))\n",
    "basic.insert(3,'productName_K','')\n",
    "basic.to_excel('..\\\\\\\\%sbasic_%s.xlsx'%(brand,date), index=None)\n",
    "    \n",
    "trans = pd.read_excel('..\\\\\\\\%sbasic_%s.xlsx'%(brand,date), usecols='C,D')\n",
    "trans = trans.drop_duplicates(keep='first', subset='productName')\n",
    "trans = trans.sort_values('productName', ascending=True)\n",
    "#Google Trans~~~~~~~~~~~~~~~~~~~~~~~~~~~~~~#\n",
    "translated = []\n",
    "japanese = trans['productName']\n",
    "for oneja in japanese:\n",
    "    ontrans = translator.translate(oneja,dest='ko').text\n",
    "    translated.append(onetrans)\n",
    "for onetranslated in translated:\n",
    "    trans['productName_K'] = pd.Series(onetranslated)\n",
    "#Google Trans~~~~~~~~~~~~~~~~~~~~~~~~~~~~~~#        \n",
    "trans.to_excel(trans, index=None, header=True)"
   ]
  }
 ],
 "metadata": {
  "kernelspec": {
   "display_name": "Python 3",
   "language": "python",
   "name": "python3"
  },
  "language_info": {
   "codemirror_mode": {
    "name": "ipython",
    "version": 3
   },
   "file_extension": ".py",
   "mimetype": "text/x-python",
   "name": "python",
   "nbconvert_exporter": "python",
   "pygments_lexer": "ipython3",
   "version": "3.8.3"
  }
 },
 "nbformat": 4,
 "nbformat_minor": 4
}
