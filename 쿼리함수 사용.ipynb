{
 "cells": [
  {
   "cell_type": "code",
   "execution_count": null,
   "metadata": {},
   "outputs": [],
   "source": [
    "import pandas as pd\n",
    "#query in, notin, ==, != 사용\n",
    "basic_csv = pd.read_csv('..\\\\\\\\%sbasic_%s.csv'%(brand,date), encoding='UTF-8')\n",
    "basic_csv = basic_csv.query('shipType in (\"在庫\")') \n",
    "basic_csv = basic_csv.query('C_1 not in (\"21862\")') \n",
    "basic_csv = basic_csv.query('C_2 not in (\"87331\", \"423\", \"59607\", \"422\", \"68299\", \"420\", \"87251\")') \n",
    "basic_csv = basic_csv.query('C_3 not in (\"43422\", \"122179\", \"68174\", \"122181\", \"23736\")') \n",
    "    \n",
    "monotaroNo_list = basic_csv['monotaroNo']\n",
    "basic_csv.to_excel('..\\\\\\\\%sbasic_%s.xlsx'%(brand,date), index=None)\n",
    "\n",
    "mono_csv = pd.read_csv('..\\\\\\\\%smono_%s.csv'%(brand,date), encoding='UTF-8')\n",
    "#query @리스트 in, not in\n",
    "mono_csv = mono_csv.query('monotaroNo in @monotaroNo_list')\n",
    "mono_csv.to_excel('..\\\\\\\\%smono_%s.xlsx'%(brand,date), index=None)"
   ]
  },
  {
   "cell_type": "code",
   "execution_count": 4,
   "metadata": {},
   "outputs": [],
   "source": [
    "import pandas as pd\n",
    "mono_xls = pd.read_excel('source.xlsx')\n",
    "    \n",
    "attr_del = ['AC100','電池','1年延長ライセンス','豚毛','馬毛','鶏尾毛','ポリイミド','ワケあり']\n",
    "#해당열에서 특정단어리스트를포함하는 데이터프레임을 뽑아냄\n",
    "name_del = mono_xls.query('attrName.str.contains(\"|\".join(@attr_del))', engine='python') \n",
    "name_del = name_del['monotaroNo']#데이터프레임중 시리즈를 뽑아냄\n",
    "value_del = mono_xls.query('attrValue.str.contains(\"|\".join(@attr_del))', engine='python') \n",
    "value_del = value_del['monotaroNo']\n",
    "mono_xls = mono_xls.query('monotaroNo not in @name_del') #데이터프레임에서 특정 조건을 기준으로 필터링\n",
    "mono_xls = mono_xls.query('monotaroNo not in @value_del') \n",
    "\n",
    "로컬변수를 query에서 참조하는 경우에는 앞에 @를 붙여야한다.\n",
    "\n",
    "TypeError:series objects are mutable, thus they cannot be hased\n",
    "→이 에러는 자르는 내용이 immutable objects여(str,int 등등의 오브젝트)여야 자를수있는데 \n",
    "join안에 있는 리스트를 str로 읽지못하고 리스트(mutable)로 읽어버려서 에러가 뜬경우였다.,engine='python'이 쿼리안에 에러가 떳을때 움직일수 \n",
    "있도록 만들어 주는 인스턴트이다.\n",
    "   \n",
    "mono_xls.to_excel('result.xlsx', index=None)      \n"
   ]
  },
  {
   "cell_type": "code",
   "execution_count": null,
   "metadata": {},
   "outputs": [],
   "source": [
    "df = df[df['연령대'] == '20'] ## df[조건식]\n",
    "df = df.query('연령대 == \"20\"') ## df.query(조건식 문자열)\n",
    "\n",
    "df = df[df['주소'].str.contains('서울')] \n",
    "df = df.query('주소.str.contains(\"서울\")')"
   ]
  },
  {
   "cell_type": "code",
   "execution_count": null,
   "metadata": {},
   "outputs": [],
   "source": [
    "trans1 = trans1.query('feature == feature') #feture행이 Nan이 아닌 행만 추출"
   ]
  }
 ],
 "metadata": {
  "kernelspec": {
   "display_name": "Python 3",
   "language": "python",
   "name": "python3"
  },
  "language_info": {
   "codemirror_mode": {
    "name": "ipython",
    "version": 3
   },
   "file_extension": ".py",
   "mimetype": "text/x-python",
   "name": "python",
   "nbconvert_exporter": "python",
   "pygments_lexer": "ipython3",
   "version": "3.8.3"
  }
 },
 "nbformat": 4,
 "nbformat_minor": 4
}
