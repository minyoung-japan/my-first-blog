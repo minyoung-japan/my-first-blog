{
 "cells": [
  {
   "cell_type": "code",
   "execution_count": null,
   "metadata": {},
   "outputs": [],
   "source": [
    "#pip install openpyxl\n",
    "#pip install pandas\n",
    "#pip install google_trans_new\n",
    "\n",
    "from google.colab import drive\n",
    "drive.mount('/content/drive/',force_remount=Ture)\n",
    "\n",
    "import sys\n",
    "sys.path.append('drive/Mydrive/EnglishTool/')"
   ]
  },
  {
   "cell_type": "code",
   "execution_count": null,
   "metadata": {},
   "outputs": [],
   "source": [
    "#구글번역+대소문자\n",
    "from EnglishTool_titlecase import titlecase\n",
    "from EnglishTool_titlecase import replace_unit\n",
    "import pandas as pd\n",
    "from google_trans_new import google_translator\n",
    "translator = google_translator()\n",
    "path = 'drive/Mydrive/EnglishTool/'\n",
    "trans = pd.read_excel(path + 'input2.xlsx')\n",
    "\n",
    "translated = []\n",
    "japnaese = trans['product_name_jp']\n",
    "for oneja in japanese:\n",
    "    onetrans = translator.translate(oneja,lang_tat='en')\n",
    "    translated.append(onetras)\n",
    "    trans['product_name_en'] = pd.Series(translated)\n",
    "\n",
    "unit_list= {'Pcs':'pcs','Pc':'pc','Mm':'mm','Cm':'cm','Km':'km','Kg':'kg',\"Inch\":'inch'}\n",
    "for i, item in trans['product_name_en'].iteritems():\n",
    "        if item is not None:\n",
    "            item = str(item)\n",
    "            item = titlecase(item)\n",
    "            item = replace_unit(item,unit_list)\n",
    "            trans.loc[i,'product_name_en'] = item\n",
    "              \n",
    "trans.to_excel(path+'result2.xlsx',index=None, header=True)"
   ]
  },
  {
   "cell_type": "code",
   "execution_count": null,
   "metadata": {},
   "outputs": [],
   "source": [
    "#대소문자\n",
    "from EnglishTool_titlecase import titlecase\n",
    "from EnglishTool_titlecase import replace_unit\n",
    "import pandas as pd\n",
    "path = 'drive/Mydrive/EnglishTool/'\n",
    "\n",
    "df = pd.read_excel(path + 'input1.xlsx')\n",
    "unit_list= {'Pcs':'pcs','Pc':'pc','Mm':'mm','Cm':'cm','Km':'km','Kg':'kg',\"Inch\":'inch'}\n",
    "for i, item in trans['product_name_en'].iteritems():\n",
    "        if item is not None:\n",
    "            item = str(item)\n",
    "            item = titlecase(item)\n",
    "            item = replace_unit(item,unit_list)\n",
    "            trans.loc[i,'product_name_en'] = item\n",
    "              \n",
    "trans.to_excel(path+'result2.xlsx',index=None, header=True)"
   ]
  },
  {
   "cell_type": "code",
   "execution_count": null,
   "metadata": {},
   "outputs": [],
   "source": [
    "#상품코드에 카테고리말단,브랜드정보 가져오기\n",
    "import pandas as pd\n",
    "path = 'drive/Mydrive/EnglishTool/'\n",
    "\n",
    "source = pd.read_excel(path + 'source.xlsx',dtype='str')\n",
    "ref = pd.read_csv(path+'ref.csv',encoding='cp932')\n",
    "ref.to_excel(path+'ref.xlsx',index=False)\n",
    "ref=pdf.read_excel(path+'ref.xlsx',usecols=['商品グループコード','カテゴリーコード','(カテゴリー名)','(ブランド名)'],dtype='str')\n",
    "\n",
    "df = pd.merge(source,ref,how='left',left_on='productCode',right_on='商品グループコード')\n",
    "\n",
    "df.sort_values(by=['(カテゴリー名)','(ブランド名)'],ascending=False)\n",
    "df.to_excel(path+'resutl.xlsx',index=False,header=True)"
   ]
  },
  {
   "cell_type": "code",
   "execution_count": null,
   "metadata": {},
   "outputs": [],
   "source": [
    "#전각기호\n",
    "\n",
    "dic = pd.read_excel('MARK.xlsx')\n",
    "source= pd.read_excel('input3.xlsx')\n",
    "\n",
    "R= dic['Raw'].to_string(index=False)\n",
    "D= dic['Dic'].to_string(index=False)\n",
    "dictor = str.maketrans(R,D)\n",
    "dicted_list =[]\n",
    "\n",
    "for index, test in source['product_name_en'].iteritems():\n",
    "    text = text(str)\n",
    "    item = text.translate(dictor)\n",
    "    dicted_list.append(item)\n",
    "source['product_name_en'] = pd.Series(dicted_list)\n",
    "\n",
    "source.to_excel('result3.xlsx',index=False,header=None)"
   ]
  }
 ],
 "metadata": {
  "kernelspec": {
   "display_name": "Python 3",
   "language": "python",
   "name": "python3"
  },
  "language_info": {
   "codemirror_mode": {
    "name": "ipython",
    "version": 3
   },
   "file_extension": ".py",
   "mimetype": "text/x-python",
   "name": "python",
   "nbconvert_exporter": "python",
   "pygments_lexer": "ipython3",
   "version": "3.8.3"
  }
 },
 "nbformat": 4,
 "nbformat_minor": 4
}
